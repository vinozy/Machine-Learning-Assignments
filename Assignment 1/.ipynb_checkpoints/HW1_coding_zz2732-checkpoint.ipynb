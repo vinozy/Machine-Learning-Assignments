{
 "cells": [
  {
   "cell_type": "code",
   "execution_count": 1,
   "metadata": {},
   "outputs": [
    {
     "name": "stderr",
     "output_type": "stream",
     "text": [
      "\n",
      "Bad key \"text.kerning_factor\" on line 4 in\n",
      "/Users/Zhang/opt/anaconda3/lib/python3.7/site-packages/matplotlib/mpl-data/stylelib/_classic_test_patch.mplstyle.\n",
      "You probably need to get an updated matplotlibrc file from\n",
      "https://github.com/matplotlib/matplotlib/blob/v3.1.3/matplotlibrc.template\n",
      "or from the matplotlib source distribution\n"
     ]
    }
   ],
   "source": [
    "import pandas as pd\n",
    "import numpy as np\n",
    "import matplotlib.pyplot as plt\n",
    "import seaborn as sns\n",
    "import sklearn\n",
    "import statsmodels.api as sm\n",
    "\n",
    "%matplotlib inline\n",
    "sns.set_style(\"darkgrid\")"
   ]
  },
  {
   "cell_type": "markdown",
   "metadata": {},
   "source": [
    "# Question 2"
   ]
  },
  {
   "cell_type": "markdown",
   "metadata": {},
   "source": [
    "## Part 1"
   ]
  },
  {
   "cell_type": "code",
   "execution_count": 2,
   "metadata": {},
   "outputs": [
    {
     "data": {
      "text/html": [
       "<div>\n",
       "<style scoped>\n",
       "    .dataframe tbody tr th:only-of-type {\n",
       "        vertical-align: middle;\n",
       "    }\n",
       "\n",
       "    .dataframe tbody tr th {\n",
       "        vertical-align: top;\n",
       "    }\n",
       "\n",
       "    .dataframe thead th {\n",
       "        text-align: right;\n",
       "    }\n",
       "</style>\n",
       "<table border=\"1\" class=\"dataframe\">\n",
       "  <thead>\n",
       "    <tr style=\"text-align: right;\">\n",
       "      <th></th>\n",
       "      <th>isuid</th>\n",
       "      <th>id</th>\n",
       "      <th>day of week</th>\n",
       "      <th>time of day</th>\n",
       "      <th>size.kb</th>\n",
       "      <th>box</th>\n",
       "      <th>domain</th>\n",
       "      <th>local</th>\n",
       "      <th>digits</th>\n",
       "      <th>name</th>\n",
       "      <th>...</th>\n",
       "      <th>special</th>\n",
       "      <th>credit</th>\n",
       "      <th>sucker</th>\n",
       "      <th>porn</th>\n",
       "      <th>chain</th>\n",
       "      <th>username</th>\n",
       "      <th>large text</th>\n",
       "      <th>spampct</th>\n",
       "      <th>category</th>\n",
       "      <th>spam</th>\n",
       "    </tr>\n",
       "  </thead>\n",
       "  <tbody>\n",
       "    <tr>\n",
       "      <th>0</th>\n",
       "      <td>1</td>\n",
       "      <td>1</td>\n",
       "      <td>Thu</td>\n",
       "      <td>0</td>\n",
       "      <td>7</td>\n",
       "      <td>no</td>\n",
       "      <td>com</td>\n",
       "      <td>no</td>\n",
       "      <td>0</td>\n",
       "      <td>name</td>\n",
       "      <td>...</td>\n",
       "      <td>1</td>\n",
       "      <td>no</td>\n",
       "      <td>no</td>\n",
       "      <td>no</td>\n",
       "      <td>no</td>\n",
       "      <td>no</td>\n",
       "      <td>no</td>\n",
       "      <td>NaN</td>\n",
       "      <td>news</td>\n",
       "      <td>no</td>\n",
       "    </tr>\n",
       "    <tr>\n",
       "      <th>1</th>\n",
       "      <td>1</td>\n",
       "      <td>2</td>\n",
       "      <td>Thu</td>\n",
       "      <td>0</td>\n",
       "      <td>2</td>\n",
       "      <td>no</td>\n",
       "      <td>com</td>\n",
       "      <td>no</td>\n",
       "      <td>0</td>\n",
       "      <td>name</td>\n",
       "      <td>...</td>\n",
       "      <td>5</td>\n",
       "      <td>no</td>\n",
       "      <td>no</td>\n",
       "      <td>no</td>\n",
       "      <td>no</td>\n",
       "      <td>no</td>\n",
       "      <td>no</td>\n",
       "      <td>NaN</td>\n",
       "      <td>com</td>\n",
       "      <td>yes</td>\n",
       "    </tr>\n",
       "    <tr>\n",
       "      <th>2</th>\n",
       "      <td>1</td>\n",
       "      <td>3</td>\n",
       "      <td>Thu</td>\n",
       "      <td>14</td>\n",
       "      <td>3</td>\n",
       "      <td>no</td>\n",
       "      <td>edu</td>\n",
       "      <td>yes</td>\n",
       "      <td>0</td>\n",
       "      <td>name</td>\n",
       "      <td>...</td>\n",
       "      <td>2</td>\n",
       "      <td>no</td>\n",
       "      <td>no</td>\n",
       "      <td>no</td>\n",
       "      <td>yes</td>\n",
       "      <td>no</td>\n",
       "      <td>no</td>\n",
       "      <td>13.0</td>\n",
       "      <td>list</td>\n",
       "      <td>no</td>\n",
       "    </tr>\n",
       "    <tr>\n",
       "      <th>3</th>\n",
       "      <td>1</td>\n",
       "      <td>4</td>\n",
       "      <td>Thu</td>\n",
       "      <td>3</td>\n",
       "      <td>3</td>\n",
       "      <td>yes</td>\n",
       "      <td>de</td>\n",
       "      <td>no</td>\n",
       "      <td>0</td>\n",
       "      <td>name</td>\n",
       "      <td>...</td>\n",
       "      <td>0</td>\n",
       "      <td>no</td>\n",
       "      <td>no</td>\n",
       "      <td>no</td>\n",
       "      <td>no</td>\n",
       "      <td>no</td>\n",
       "      <td>no</td>\n",
       "      <td>NaN</td>\n",
       "      <td>ord</td>\n",
       "      <td>no</td>\n",
       "    </tr>\n",
       "    <tr>\n",
       "      <th>4</th>\n",
       "      <td>1</td>\n",
       "      <td>5</td>\n",
       "      <td>Thu</td>\n",
       "      <td>3</td>\n",
       "      <td>4</td>\n",
       "      <td>no</td>\n",
       "      <td>uk</td>\n",
       "      <td>no</td>\n",
       "      <td>0</td>\n",
       "      <td>name</td>\n",
       "      <td>...</td>\n",
       "      <td>2</td>\n",
       "      <td>no</td>\n",
       "      <td>no</td>\n",
       "      <td>no</td>\n",
       "      <td>no</td>\n",
       "      <td>no</td>\n",
       "      <td>no</td>\n",
       "      <td>NaN</td>\n",
       "      <td>list</td>\n",
       "      <td>no</td>\n",
       "    </tr>\n",
       "    <tr>\n",
       "      <th>...</th>\n",
       "      <td>...</td>\n",
       "      <td>...</td>\n",
       "      <td>...</td>\n",
       "      <td>...</td>\n",
       "      <td>...</td>\n",
       "      <td>...</td>\n",
       "      <td>...</td>\n",
       "      <td>...</td>\n",
       "      <td>...</td>\n",
       "      <td>...</td>\n",
       "      <td>...</td>\n",
       "      <td>...</td>\n",
       "      <td>...</td>\n",
       "      <td>...</td>\n",
       "      <td>...</td>\n",
       "      <td>...</td>\n",
       "      <td>...</td>\n",
       "      <td>...</td>\n",
       "      <td>...</td>\n",
       "      <td>...</td>\n",
       "      <td>...</td>\n",
       "    </tr>\n",
       "    <tr>\n",
       "      <th>2166</th>\n",
       "      <td>19</td>\n",
       "      <td>96</td>\n",
       "      <td>Fri</td>\n",
       "      <td>10</td>\n",
       "      <td>5</td>\n",
       "      <td>no</td>\n",
       "      <td>edu</td>\n",
       "      <td>no</td>\n",
       "      <td>0</td>\n",
       "      <td>single</td>\n",
       "      <td>...</td>\n",
       "      <td>1</td>\n",
       "      <td>no</td>\n",
       "      <td>no</td>\n",
       "      <td>no</td>\n",
       "      <td>no</td>\n",
       "      <td>no</td>\n",
       "      <td>no</td>\n",
       "      <td>NaN</td>\n",
       "      <td>ord</td>\n",
       "      <td>no</td>\n",
       "    </tr>\n",
       "    <tr>\n",
       "      <th>2167</th>\n",
       "      <td>19</td>\n",
       "      <td>97</td>\n",
       "      <td>Sun</td>\n",
       "      <td>15</td>\n",
       "      <td>192</td>\n",
       "      <td>yes</td>\n",
       "      <td>edu</td>\n",
       "      <td>no</td>\n",
       "      <td>0</td>\n",
       "      <td>name</td>\n",
       "      <td>...</td>\n",
       "      <td>0</td>\n",
       "      <td>no</td>\n",
       "      <td>no</td>\n",
       "      <td>no</td>\n",
       "      <td>no</td>\n",
       "      <td>no</td>\n",
       "      <td>no</td>\n",
       "      <td>NaN</td>\n",
       "      <td>ord</td>\n",
       "      <td>no</td>\n",
       "    </tr>\n",
       "    <tr>\n",
       "      <th>2168</th>\n",
       "      <td>19</td>\n",
       "      <td>98</td>\n",
       "      <td>Sun</td>\n",
       "      <td>15</td>\n",
       "      <td>85</td>\n",
       "      <td>yes</td>\n",
       "      <td>edu</td>\n",
       "      <td>no</td>\n",
       "      <td>0</td>\n",
       "      <td>name</td>\n",
       "      <td>...</td>\n",
       "      <td>0</td>\n",
       "      <td>no</td>\n",
       "      <td>no</td>\n",
       "      <td>no</td>\n",
       "      <td>no</td>\n",
       "      <td>no</td>\n",
       "      <td>no</td>\n",
       "      <td>NaN</td>\n",
       "      <td>ord</td>\n",
       "      <td>no</td>\n",
       "    </tr>\n",
       "    <tr>\n",
       "      <th>2169</th>\n",
       "      <td>19</td>\n",
       "      <td>99</td>\n",
       "      <td>Tue</td>\n",
       "      <td>13</td>\n",
       "      <td>4</td>\n",
       "      <td>yes</td>\n",
       "      <td>edu</td>\n",
       "      <td>no</td>\n",
       "      <td>0</td>\n",
       "      <td>name</td>\n",
       "      <td>...</td>\n",
       "      <td>0</td>\n",
       "      <td>no</td>\n",
       "      <td>no</td>\n",
       "      <td>no</td>\n",
       "      <td>no</td>\n",
       "      <td>no</td>\n",
       "      <td>no</td>\n",
       "      <td>NaN</td>\n",
       "      <td>ord</td>\n",
       "      <td>no</td>\n",
       "    </tr>\n",
       "    <tr>\n",
       "      <th>2170</th>\n",
       "      <td>19</td>\n",
       "      <td>100</td>\n",
       "      <td>Tue</td>\n",
       "      <td>9</td>\n",
       "      <td>1</td>\n",
       "      <td>yes</td>\n",
       "      <td>edu</td>\n",
       "      <td>yes</td>\n",
       "      <td>0</td>\n",
       "      <td>name</td>\n",
       "      <td>...</td>\n",
       "      <td>1</td>\n",
       "      <td>no</td>\n",
       "      <td>no</td>\n",
       "      <td>no</td>\n",
       "      <td>no</td>\n",
       "      <td>no</td>\n",
       "      <td>no</td>\n",
       "      <td>NaN</td>\n",
       "      <td>ord</td>\n",
       "      <td>no</td>\n",
       "    </tr>\n",
       "  </tbody>\n",
       "</table>\n",
       "<p>2171 rows × 21 columns</p>\n",
       "</div>"
      ],
      "text/plain": [
       "      isuid   id day of week  time of day  size.kb  box domain local  digits  \\\n",
       "0         1    1         Thu            0        7   no    com    no       0   \n",
       "1         1    2         Thu            0        2   no    com    no       0   \n",
       "2         1    3         Thu           14        3   no    edu   yes       0   \n",
       "3         1    4         Thu            3        3  yes     de    no       0   \n",
       "4         1    5         Thu            3        4   no     uk    no       0   \n",
       "...     ...  ...         ...          ...      ...  ...    ...   ...     ...   \n",
       "2166     19   96         Fri           10        5   no    edu    no       0   \n",
       "2167     19   97         Sun           15      192  yes    edu    no       0   \n",
       "2168     19   98         Sun           15       85  yes    edu    no       0   \n",
       "2169     19   99         Tue           13        4  yes    edu    no       0   \n",
       "2170     19  100         Tue            9        1  yes    edu   yes       0   \n",
       "\n",
       "        name  ...  special  credit sucker porn chain username large text  \\\n",
       "0       name  ...        1      no     no   no    no       no         no   \n",
       "1       name  ...        5      no     no   no    no       no         no   \n",
       "2       name  ...        2      no     no   no   yes       no         no   \n",
       "3       name  ...        0      no     no   no    no       no         no   \n",
       "4       name  ...        2      no     no   no    no       no         no   \n",
       "...      ...  ...      ...     ...    ...  ...   ...      ...        ...   \n",
       "2166  single  ...        1      no     no   no    no       no         no   \n",
       "2167    name  ...        0      no     no   no    no       no         no   \n",
       "2168    name  ...        0      no     no   no    no       no         no   \n",
       "2169    name  ...        0      no     no   no    no       no         no   \n",
       "2170    name  ...        1      no     no   no    no       no         no   \n",
       "\n",
       "     spampct  category spam  \n",
       "0        NaN      news   no  \n",
       "1        NaN       com  yes  \n",
       "2       13.0      list   no  \n",
       "3        NaN       ord   no  \n",
       "4        NaN      list   no  \n",
       "...      ...       ...  ...  \n",
       "2166     NaN       ord   no  \n",
       "2167     NaN       ord   no  \n",
       "2168     NaN       ord   no  \n",
       "2169     NaN       ord   no  \n",
       "2170     NaN       ord   no  \n",
       "\n",
       "[2171 rows x 21 columns]"
      ]
     },
     "execution_count": 2,
     "metadata": {},
     "output_type": "execute_result"
    }
   ],
   "source": [
    "spam = pd.read_csv('Data/spam.csv')\n",
    "spam"
   ]
  },
  {
   "cell_type": "markdown",
   "metadata": {},
   "source": [
    "'spam' is the dependent variable."
   ]
  },
  {
   "cell_type": "markdown",
   "metadata": {},
   "source": [
    "## Part 2"
   ]
  },
  {
   "cell_type": "code",
   "execution_count": 79,
   "metadata": {},
   "outputs": [
    {
     "data": {
      "text/plain": [
       "spam\n",
       "no     AxesSubplot(0.125,0.125;0.775x0.755)\n",
       "yes    AxesSubplot(0.125,0.125;0.775x0.755)\n",
       "Name: day of week, dtype: object"
      ]
     },
     "execution_count": 79,
     "metadata": {},
     "output_type": "execute_result"
    },
    {
     "data": {
      "image/png": "[encoded data removed]",
      "text/plain": [
       "<Figure size 432x288 with 1 Axes>"
      ]
     },
     "metadata": {},
     "output_type": "display_data"
    }
   ],
   "source": [
    "# relationship between 'day of week' and 'spam'\n",
    "spam['day of week'].groupby(spam['spam']).hist()"
   ]
  },
  {
   "cell_type": "code",
   "execution_count": 80,
   "metadata": {},
   "outputs": [
    {
     "data": {
      "text/plain": [
       "spam\n",
       "no     AxesSubplot(0.125,0.125;0.775x0.755)\n",
       "yes    AxesSubplot(0.125,0.125;0.775x0.755)\n",
       "Name: time of day, dtype: object"
      ]
     },
     "execution_count": 80,
     "metadata": {},
     "output_type": "execute_result"
    },
    {
     "data": {
      "image/png": "[encoded data removed]",
      "text/plain": [
       "<Figure size 432x288 with 1 Axes>"
      ]
     },
     "metadata": {},
     "output_type": "display_data"
    }
   ],
   "source": [
    "spam['time of day'].groupby(spam['spam']).hist()"
   ]
  },
  {
   "cell_type": "code",
   "execution_count": 84,
   "metadata": {},
   "outputs": [
    {
     "data": {
      "text/plain": [
       "spam\n",
       "no     AxesSubplot(0.125,0.125;0.775x0.755)\n",
       "yes    AxesSubplot(0.125,0.125;0.775x0.755)\n",
       "Name: domain, dtype: object"
      ]
     },
     "execution_count": 84,
     "metadata": {},
     "output_type": "execute_result"
    },
    {
     "data": {
      "image/png": "[encoded data removed]",
      "text/plain": [
       "<Figure size 432x288 with 1 Axes>"
      ]
     },
     "metadata": {},
     "output_type": "display_data"
    }
   ],
   "source": [
    "spam['domain'].groupby(spam['spam']).hist()"
   ]
  },
  {
   "cell_type": "markdown",
   "metadata": {},
   "source": [
    "## Part 3"
   ]
  },
  {
   "cell_type": "markdown",
   "metadata": {},
   "source": [
    "### a"
   ]
  },
  {
   "cell_type": "code",
   "execution_count": 3,
   "metadata": {},
   "outputs": [
    {
     "data": {
      "text/plain": [
       "1353"
      ]
     },
     "execution_count": 3,
     "metadata": {},
     "output_type": "execute_result"
    }
   ],
   "source": [
    "spam['spampct'].isnull().sum()"
   ]
  },
  {
   "cell_type": "markdown",
   "metadata": {},
   "source": [
    "### b"
   ]
  },
  {
   "cell_type": "code",
   "execution_count": 9,
   "metadata": {},
   "outputs": [
    {
     "data": {
      "text/plain": [
       "Text(0, 0.5, 'percentage')"
      ]
     },
     "execution_count": 9,
     "metadata": {},
     "output_type": "execute_result"
    },
    {
     "data": {
      "image/png": "[encoded data removed]",
      "text/plain": [
       "<Figure size 432x288 with 1 Axes>"
      ]
     },
     "metadata": {},
     "output_type": "display_data"
    }
   ],
   "source": [
    "# 'time of day' when 'spampct' is missing\n",
    "spam_pct_missing = spam['time of day'][spam['spampct'].isnull()]\n",
    "values,counts=np.unique(np.array(spam_pct_missing),return_counts=True)\n",
    "\n",
    "# plot the distribution\n",
    "plt.bar(values,counts/np.sum(counts))\n",
    "plt.title(\"'spampct' is missing\")\n",
    "plt.xlabel('hour of day')\n",
    "plt.ylabel('percentage')"
   ]
  },
  {
   "cell_type": "code",
   "execution_count": 7,
   "metadata": {},
   "outputs": [
    {
     "data": {
      "text/plain": [
       "Text(0, 0.5, 'percentage')"
      ]
     },
     "execution_count": 7,
     "metadata": {},
     "output_type": "execute_result"
    },
    {
     "data": {
      "image/png": "[encoded data removed]",
      "text/plain": [
       "<Figure size 432x288 with 1 Axes>"
      ]
     },
     "metadata": {},
     "output_type": "display_data"
    }
   ],
   "source": [
    "# 'time of day' when 'spampct' is available\n",
    "spam_pct_available = spam['time of day'][spam['spampct'].notnull()]\n",
    "new_values,new_counts=np.unique(np.array(spam_pct_available),return_counts=True)\n",
    "plt.bar(new_values,new_counts/np.sum(new_counts))\n",
    "plt.title(\"'spampct' is available\")\n",
    "plt.xlabel('hour of day')\n",
    "plt.ylabel('percentage')"
   ]
  },
  {
   "cell_type": "markdown",
   "metadata": {},
   "source": [
    "### c"
   ]
  },
  {
   "cell_type": "code",
   "execution_count": 10,
   "metadata": {},
   "outputs": [
    {
     "data": {
      "text/plain": [
       "Text(0, 0.5, 'spampct')"
      ]
     },
     "execution_count": 10,
     "metadata": {},
     "output_type": "execute_result"
    },
    {
     "data": {
      "image/png": "[encoded data removed]",
      "text/plain": [
       "<Figure size 432x288 with 1 Axes>"
      ]
     },
     "metadata": {},
     "output_type": "display_data"
    }
   ],
   "source": [
    "plt.scatter(spam['time of day'],spam['spampct'])\n",
    "plt.title(\"'spampct' against 'time of day'\")\n",
    "plt.xlabel('time of day')\n",
    "plt.ylabel('spampct')"
   ]
  },
  {
   "cell_type": "code",
   "execution_count": 12,
   "metadata": {},
   "outputs": [
    {
     "name": "stdout",
     "output_type": "stream",
     "text": [
      "Number of unique points plotted: 1451\n"
     ]
    }
   ],
   "source": [
    "all_points = np.array(list(zip(spam['time of day'],spam['spampct'])))\n",
    "print(\"Number of unique points plotted: \"+str(len(np.unique(all_points))))"
   ]
  },
  {
   "cell_type": "markdown",
   "metadata": {},
   "source": [
    "# Question 3"
   ]
  },
  {
   "cell_type": "markdown",
   "metadata": {},
   "source": [
    "## a"
   ]
  },
  {
   "cell_type": "code",
   "execution_count": 13,
   "metadata": {},
   "outputs": [
    {
     "data": {
      "text/plain": [
       "array([ 1.62434536, -0.61175641, -0.52817175, -1.07296862,  0.86540763,\n",
       "       -2.3015387 ,  1.74481176, -0.7612069 ,  0.3190391 , -0.24937038,\n",
       "        1.46210794, -2.06014071, -0.3224172 , -0.38405435,  1.13376944,\n",
       "       -1.09989127, -0.17242821, -0.87785842,  0.04221375,  0.58281521,\n",
       "       -1.10061918,  1.14472371,  0.90159072,  0.50249434,  0.90085595,\n",
       "       -0.68372786, -0.12289023, -0.93576943, -0.26788808,  0.53035547,\n",
       "       -0.69166075, -0.39675353, -0.6871727 , -0.84520564, -0.67124613,\n",
       "       -0.0126646 , -1.11731035,  0.2344157 ,  1.65980218,  0.74204416,\n",
       "       -0.19183555, -0.88762896, -0.74715829,  1.6924546 ,  0.05080775,\n",
       "       -0.63699565,  0.19091548,  2.10025514,  0.12015895,  0.61720311,\n",
       "        0.30017032, -0.35224985, -1.1425182 , -0.34934272, -0.20889423,\n",
       "        0.58662319,  0.83898341,  0.93110208,  0.28558733,  0.88514116,\n",
       "       -0.75439794,  1.25286816,  0.51292982, -0.29809284,  0.48851815,\n",
       "       -0.07557171,  1.13162939,  1.51981682,  2.18557541, -1.39649634,\n",
       "       -1.44411381, -0.50446586,  0.16003707,  0.87616892,  0.31563495,\n",
       "       -2.02220122, -0.30620401,  0.82797464,  0.23009474,  0.76201118,\n",
       "       -0.22232814, -0.20075807,  0.18656139,  0.41005165,  0.19829972,\n",
       "        0.11900865, -0.67066229,  0.37756379,  0.12182127,  1.12948391,\n",
       "        1.19891788,  0.18515642, -0.37528495, -0.63873041,  0.42349435,\n",
       "        0.07734007, -0.34385368,  0.04359686, -0.62000084,  0.69803203])"
      ]
     },
     "execution_count": 13,
     "metadata": {},
     "output_type": "execute_result"
    }
   ],
   "source": [
    "# feature vector, 'X'\n",
    "np.random.seed(1)\n",
    "X = np.random.normal(0, 1, 100)\n",
    "X"
   ]
  },
  {
   "cell_type": "markdown",
   "metadata": {},
   "source": [
    "## b"
   ]
  },
  {
   "cell_type": "code",
   "execution_count": 14,
   "metadata": {},
   "outputs": [
    {
     "data": {
      "text/plain": [
       "array([-0.22356428,  0.61225385,  0.20174582,  0.29678926, -0.54745592,\n",
       "        0.08469122,  0.37027823, -0.4768503 , -0.13310925,  0.01630727,\n",
       "       -0.68655866,  0.1575797 ,  0.42308032, -0.42975797,  0.17527299,\n",
       "       -0.65614171, -0.01934775, -0.80788618,  0.56070885,  0.20445027,\n",
       "       -0.01230848, -0.38758081,  0.63687797,  0.98355087, -0.92899093,\n",
       "        0.61808202,  0.81382538,  0.16900585, -0.59963402,  0.43167266,\n",
       "       -0.09046015, -0.30196031, -0.61502907,  0.27526875,  0.39640343,\n",
       "       -0.31176536,  0.26028817, -0.57217069,  0.40093052,  0.02328365,\n",
       "       -0.09328489, -0.05087294,  0.43444308,  0.37520582,  0.26473266,\n",
       "        0.0688506 ,  0.03891056,  0.30919013,  0.11624728,  0.3412757 ,\n",
       "       -0.15505839, -1.21741888,  0.5194123 ,  1.09348982,  0.22068222,\n",
       "       -0.05007762, -0.06822237, -0.05952709,  0.0087047 , -0.56100936,\n",
       "       -0.25854723, -0.49851341,  0.12439958, -0.14832058,  0.24760566,\n",
       "       -0.08735158,  0.49316759,  0.10676695,  1.09534986, -0.94818046,\n",
       "       -0.32345834,  0.45074345,  1.26416285, -0.12431739,  0.0218345 ,\n",
       "       -0.11315712,  0.66572856, -0.14365393,  0.34003492, -0.1599008 ,\n",
       "       -0.63627938,  0.15677386,  0.25159241,  0.64661294, -0.05522351,\n",
       "       -0.30868103,  0.28138055,  0.12036855,  0.14033254, -0.03655635,\n",
       "        0.58016928,  0.18474636,  0.95232935,  0.55552835,  0.3295249 ,\n",
       "       -0.81371917,  0.30115964,  0.2101411 ,  0.40547584,  0.52222105])"
      ]
     },
     "execution_count": 14,
     "metadata": {},
     "output_type": "execute_result"
    }
   ],
   "source": [
    "# error vector, 'eps'\n",
    "eps = np.random.normal(0, 0.25**0.5, 100)\n",
    "eps"
   ]
  },
  {
   "cell_type": "markdown",
   "metadata": {},
   "source": [
    "## c"
   ]
  },
  {
   "cell_type": "code",
   "execution_count": 15,
   "metadata": {
    "scrolled": true
   },
   "outputs": [
    {
     "data": {
      "text/plain": [
       "array([-0.4113916 , -0.69362435, -1.06234006, -1.23969505, -1.11475211,\n",
       "       -2.06607813,  0.24268411, -1.85745375, -0.9735897 , -1.10837791,\n",
       "       -0.95550469, -1.87249066, -0.73812828, -1.62178515, -0.25784229,\n",
       "       -2.20608734, -1.10556186, -2.24681539, -0.41818427, -0.50414212,\n",
       "       -1.56261807, -0.81521895,  0.08767333,  0.23479804, -1.47856296,\n",
       "       -0.72378191, -0.24761974, -1.29887887, -1.73357806, -0.30314961,\n",
       "       -1.43629053, -1.50033708, -1.95861542, -1.14733407, -0.93921963,\n",
       "       -1.31809766, -1.29836701, -1.45496285,  0.2308316 , -0.60569427,\n",
       "       -1.18920266, -1.49468742, -0.93913607,  0.22143312, -0.70986346,\n",
       "       -1.24964722, -0.86563169,  0.3593177 , -0.82367324, -0.35012274,\n",
       "       -1.00497323, -2.39354381, -1.0518468 , -0.08118154, -0.88376489,\n",
       "       -0.75676602, -0.64873067, -0.59397605, -0.84850163, -1.11843878,\n",
       "       -1.6357462 , -0.87207934, -0.61913551, -1.29736699, -0.50813526,\n",
       "       -1.12513744,  0.05898229, -0.13332464,  1.18813757, -2.64642863,\n",
       "       -2.04551525, -0.80148949,  0.34418139, -0.68623293, -0.82034803,\n",
       "       -2.12425773, -0.48737345, -0.72966661, -0.54491771, -0.77889521,\n",
       "       -1.74744345, -0.94360517, -0.6551269 , -0.14836124, -0.95607365,\n",
       "       -1.24917671, -1.05395059, -0.69084956, -0.79875683, -0.4718144 ,\n",
       "        0.17962822, -0.72267543, -0.23531312, -0.76383685, -0.45872792,\n",
       "       -1.77504914, -0.8707672 , -0.76806047, -0.90452459, -0.12876294])"
      ]
     },
     "execution_count": 15,
     "metadata": {},
     "output_type": "execute_result"
    }
   ],
   "source": [
    "# linear model Y\n",
    "Y = -1 + 0.5*X + eps\n",
    "Y"
   ]
  },
  {
   "cell_type": "code",
   "execution_count": 16,
   "metadata": {},
   "outputs": [
    {
     "data": {
      "text/plain": [
       "100"
      ]
     },
     "execution_count": 16,
     "metadata": {},
     "output_type": "execute_result"
    }
   ],
   "source": [
    "len(Y)"
   ]
  },
  {
   "cell_type": "markdown",
   "metadata": {},
   "source": [
    "## d"
   ]
  },
  {
   "cell_type": "code",
   "execution_count": 17,
   "metadata": {},
   "outputs": [
    {
     "data": {
      "text/plain": [
       "Text(0, 0.5, 'Y values')"
      ]
     },
     "execution_count": 17,
     "metadata": {},
     "output_type": "execute_result"
    },
    {
     "data": {
      "image/png": "[encoded data removed]",
      "text/plain": [
       "<Figure size 432x288 with 1 Axes>"
      ]
     },
     "metadata": {},
     "output_type": "display_data"
    }
   ],
   "source": [
    "# Scatter plot\n",
    "plt.scatter(X,Y)\n",
    "plt.xlabel('X values')\n",
    "plt.ylabel('Y values')"
   ]
  },
  {
   "cell_type": "markdown",
   "metadata": {},
   "source": [
    "## e"
   ]
  },
  {
   "cell_type": "code",
   "execution_count": 18,
   "metadata": {},
   "outputs": [
    {
     "data": {
      "text/html": [
       "<table class=\"simpletable\">\n",
       "<caption>OLS Regression Results</caption>\n",
       "<tr>\n",
       "  <th>Dep. Variable:</th>            <td>y</td>        <th>  R-squared:         </th> <td>   0.522</td>\n",
       "</tr>\n",
       "<tr>\n",
       "  <th>Model:</th>                   <td>OLS</td>       <th>  Adj. R-squared:    </th> <td>   0.517</td>\n",
       "</tr>\n",
       "<tr>\n",
       "  <th>Method:</th>             <td>Least Squares</td>  <th>  F-statistic:       </th> <td>   107.0</td>\n",
       "</tr>\n",
       "<tr>\n",
       "  <th>Date:</th>             <td>Thu, 01 Oct 2020</td> <th>  Prob (F-statistic):</th> <td>2.20e-17</td>\n",
       "</tr>\n",
       "<tr>\n",
       "  <th>Time:</th>                 <td>18:21:20</td>     <th>  Log-Likelihood:    </th> <td> -65.124</td>\n",
       "</tr>\n",
       "<tr>\n",
       "  <th>No. Observations:</th>      <td>   100</td>      <th>  AIC:               </th> <td>   134.2</td>\n",
       "</tr>\n",
       "<tr>\n",
       "  <th>Df Residuals:</th>          <td>    98</td>      <th>  BIC:               </th> <td>   139.5</td>\n",
       "</tr>\n",
       "<tr>\n",
       "  <th>Df Model:</th>              <td>     1</td>      <th>                     </th>     <td> </td>   \n",
       "</tr>\n",
       "<tr>\n",
       "  <th>Covariance Type:</th>      <td>nonrobust</td>    <th>                     </th>     <td> </td>   \n",
       "</tr>\n",
       "</table>\n",
       "<table class=\"simpletable\">\n",
       "<tr>\n",
       "    <td></td>       <th>coef</th>     <th>std err</th>      <th>t</th>      <th>P>|t|</th>  <th>[0.025</th>    <th>0.975]</th>  \n",
       "</tr>\n",
       "<tr>\n",
       "  <th>const</th> <td>   -0.9265</td> <td>    0.047</td> <td>  -19.717</td> <td> 0.000</td> <td>   -1.020</td> <td>   -0.833</td>\n",
       "</tr>\n",
       "<tr>\n",
       "  <th>x1</th>    <td>    0.5477</td> <td>    0.053</td> <td>   10.342</td> <td> 0.000</td> <td>    0.443</td> <td>    0.653</td>\n",
       "</tr>\n",
       "</table>\n",
       "<table class=\"simpletable\">\n",
       "<tr>\n",
       "  <th>Omnibus:</th>       <td> 0.898</td> <th>  Durbin-Watson:     </th> <td>   2.157</td>\n",
       "</tr>\n",
       "<tr>\n",
       "  <th>Prob(Omnibus):</th> <td> 0.638</td> <th>  Jarque-Bera (JB):  </th> <td>   0.561</td>\n",
       "</tr>\n",
       "<tr>\n",
       "  <th>Skew:</th>          <td>-0.172</td> <th>  Prob(JB):          </th> <td>   0.755</td>\n",
       "</tr>\n",
       "<tr>\n",
       "  <th>Kurtosis:</th>      <td> 3.127</td> <th>  Cond. No.          </th> <td>    1.15</td>\n",
       "</tr>\n",
       "</table><br/><br/>Warnings:<br/>[1] Standard Errors assume that the covariance matrix of the errors is correctly specified."
      ],
      "text/plain": [
       "<class 'statsmodels.iolib.summary.Summary'>\n",
       "\"\"\"\n",
       "                            OLS Regression Results                            \n",
       "==============================================================================\n",
       "Dep. Variable:                      y   R-squared:                       0.522\n",
       "Model:                            OLS   Adj. R-squared:                  0.517\n",
       "Method:                 Least Squares   F-statistic:                     107.0\n",
       "Date:                Thu, 01 Oct 2020   Prob (F-statistic):           2.20e-17\n",
       "Time:                        18:21:20   Log-Likelihood:                -65.124\n",
       "No. Observations:                 100   AIC:                             134.2\n",
       "Df Residuals:                      98   BIC:                             139.5\n",
       "Df Model:                           1                                         \n",
       "Covariance Type:            nonrobust                                         \n",
       "==============================================================================\n",
       "                 coef    std err          t      P>|t|      [0.025      0.975]\n",
       "------------------------------------------------------------------------------\n",
       "const         -0.9265      0.047    -19.717      0.000      -1.020      -0.833\n",
       "x1             0.5477      0.053     10.342      0.000       0.443       0.653\n",
       "==============================================================================\n",
       "Omnibus:                        0.898   Durbin-Watson:                   2.157\n",
       "Prob(Omnibus):                  0.638   Jarque-Bera (JB):                0.561\n",
       "Skew:                          -0.172   Prob(JB):                        0.755\n",
       "Kurtosis:                       3.127   Cond. No.                         1.15\n",
       "==============================================================================\n",
       "\n",
       "Warnings:\n",
       "[1] Standard Errors assume that the covariance matrix of the errors is correctly specified.\n",
       "\"\"\""
      ]
     },
     "execution_count": 18,
     "metadata": {},
     "output_type": "execute_result"
    }
   ],
   "source": [
    "# fit the least squares linear model\n",
    "model = sm.OLS(Y,sm.add_constant(X))\n",
    "result = model.fit()\n",
    "result.summary()"
   ]
  },
  {
   "cell_type": "markdown",
   "metadata": {},
   "source": [
    "## f"
   ]
  },
  {
   "cell_type": "code",
   "execution_count": 19,
   "metadata": {},
   "outputs": [
    {
     "data": {
      "text/plain": [
       "<matplotlib.legend.Legend at 0x7f947bf58f90>"
      ]
     },
     "execution_count": 19,
     "metadata": {},
     "output_type": "execute_result"
    },
    {
     "data": {
      "image/png": "[encoded data removed]",
      "text/plain": [
       "<Figure size 432x288 with 1 Axes>"
      ]
     },
     "metadata": {},
     "output_type": "display_data"
    }
   ],
   "source": [
    "# plot regression lines\n",
    "plt.scatter(X,Y)\n",
    "plt.xlabel('X values')\n",
    "plt.ylabel('Y values')\n",
    "plt.plot(X,-0.9265+0.5477*X, c = 'blue', label = 'least squares line')   \n",
    "# least squares regression line: Y = beta_hat_0 + beta_hat_1*X\n",
    "plt.plot(X,-1 + 0.5*X, c = 'red', label = 'population regression line')          \n",
    "# population regression line: Y = true_beta_0 + true_beta_1*X\n",
    "plt.legend()"
   ]
  },
  {
   "cell_type": "markdown",
   "metadata": {},
   "source": [
    "## g"
   ]
  },
  {
   "cell_type": "code",
   "execution_count": 20,
   "metadata": {
    "scrolled": false
   },
   "outputs": [
    {
     "data": {
      "text/html": [
       "<table class=\"simpletable\">\n",
       "<caption>OLS Regression Results</caption>\n",
       "<tr>\n",
       "  <th>Dep. Variable:</th>            <td>y</td>        <th>  R-squared:         </th> <td>   0.522</td>\n",
       "</tr>\n",
       "<tr>\n",
       "  <th>Model:</th>                   <td>OLS</td>       <th>  Adj. R-squared:    </th> <td>   0.512</td>\n",
       "</tr>\n",
       "<tr>\n",
       "  <th>Method:</th>             <td>Least Squares</td>  <th>  F-statistic:       </th> <td>   52.96</td>\n",
       "</tr>\n",
       "<tr>\n",
       "  <th>Date:</th>             <td>Thu, 01 Oct 2020</td> <th>  Prob (F-statistic):</th> <td>2.83e-16</td>\n",
       "</tr>\n",
       "<tr>\n",
       "  <th>Time:</th>                 <td>18:23:27</td>     <th>  Log-Likelihood:    </th> <td> -65.107</td>\n",
       "</tr>\n",
       "<tr>\n",
       "  <th>No. Observations:</th>      <td>   100</td>      <th>  AIC:               </th> <td>   136.2</td>\n",
       "</tr>\n",
       "<tr>\n",
       "  <th>Df Residuals:</th>          <td>    97</td>      <th>  BIC:               </th> <td>   144.0</td>\n",
       "</tr>\n",
       "<tr>\n",
       "  <th>Df Model:</th>              <td>     2</td>      <th>                     </th>     <td> </td>   \n",
       "</tr>\n",
       "<tr>\n",
       "  <th>Covariance Type:</th>      <td>nonrobust</td>    <th>                     </th>     <td> </td>   \n",
       "</tr>\n",
       "</table>\n",
       "<table class=\"simpletable\">\n",
       "<tr>\n",
       "    <td></td>       <th>coef</th>     <th>std err</th>      <th>t</th>      <th>P>|t|</th>  <th>[0.025</th>    <th>0.975]</th>  \n",
       "</tr>\n",
       "<tr>\n",
       "  <th>const</th> <td>   -0.9325</td> <td>    0.058</td> <td>  -16.158</td> <td> 0.000</td> <td>   -1.047</td> <td>   -0.818</td>\n",
       "</tr>\n",
       "<tr>\n",
       "  <th>x1</th>    <td>    0.5468</td> <td>    0.053</td> <td>   10.229</td> <td> 0.000</td> <td>    0.441</td> <td>    0.653</td>\n",
       "</tr>\n",
       "<tr>\n",
       "  <th>x2</th>    <td>    0.0077</td> <td>    0.043</td> <td>    0.181</td> <td> 0.856</td> <td>   -0.077</td> <td>    0.092</td>\n",
       "</tr>\n",
       "</table>\n",
       "<table class=\"simpletable\">\n",
       "<tr>\n",
       "  <th>Omnibus:</th>       <td> 0.893</td> <th>  Durbin-Watson:     </th> <td>   2.152</td>\n",
       "</tr>\n",
       "<tr>\n",
       "  <th>Prob(Omnibus):</th> <td> 0.640</td> <th>  Jarque-Bera (JB):  </th> <td>   0.552</td>\n",
       "</tr>\n",
       "<tr>\n",
       "  <th>Skew:</th>          <td>-0.170</td> <th>  Prob(JB):          </th> <td>   0.759</td>\n",
       "</tr>\n",
       "<tr>\n",
       "  <th>Kurtosis:</th>      <td> 3.132</td> <th>  Cond. No.          </th> <td>    2.10</td>\n",
       "</tr>\n",
       "</table><br/><br/>Warnings:<br/>[1] Standard Errors assume that the covariance matrix of the errors is correctly specified."
      ],
      "text/plain": [
       "<class 'statsmodels.iolib.summary.Summary'>\n",
       "\"\"\"\n",
       "                            OLS Regression Results                            \n",
       "==============================================================================\n",
       "Dep. Variable:                      y   R-squared:                       0.522\n",
       "Model:                            OLS   Adj. R-squared:                  0.512\n",
       "Method:                 Least Squares   F-statistic:                     52.96\n",
       "Date:                Thu, 01 Oct 2020   Prob (F-statistic):           2.83e-16\n",
       "Time:                        18:23:27   Log-Likelihood:                -65.107\n",
       "No. Observations:                 100   AIC:                             136.2\n",
       "Df Residuals:                      97   BIC:                             144.0\n",
       "Df Model:                           2                                         \n",
       "Covariance Type:            nonrobust                                         \n",
       "==============================================================================\n",
       "                 coef    std err          t      P>|t|      [0.025      0.975]\n",
       "------------------------------------------------------------------------------\n",
       "const         -0.9325      0.058    -16.158      0.000      -1.047      -0.818\n",
       "x1             0.5468      0.053     10.229      0.000       0.441       0.653\n",
       "x2             0.0077      0.043      0.181      0.856      -0.077       0.092\n",
       "==============================================================================\n",
       "Omnibus:                        0.893   Durbin-Watson:                   2.152\n",
       "Prob(Omnibus):                  0.640   Jarque-Bera (JB):                0.552\n",
       "Skew:                          -0.170   Prob(JB):                        0.759\n",
       "Kurtosis:                       3.132   Cond. No.                         2.10\n",
       "==============================================================================\n",
       "\n",
       "Warnings:\n",
       "[1] Standard Errors assume that the covariance matrix of the errors is correctly specified.\n",
       "\"\"\""
      ]
     },
     "execution_count": 20,
     "metadata": {},
     "output_type": "execute_result"
    }
   ],
   "source": [
    "# add a quadratic term\n",
    "X_g = np.column_stack((X, X**2))\n",
    "# New Model: y ~ x + x^2\n",
    "new_model = sm.OLS(Y,sm.add_constant(X_g))\n",
    "new_result = new_model.fit()\n",
    "new_result.summary()\n",
    "# the p-value of X^2 is too large, therefore insignificant"
   ]
  },
  {
   "cell_type": "code",
   "execution_count": 21,
   "metadata": {},
   "outputs": [
    {
     "data": {
      "text/plain": [
       "<matplotlib.legend.Legend at 0x7f947bff7850>"
      ]
     },
     "execution_count": 21,
     "metadata": {},
     "output_type": "execute_result"
    },
    {
     "data": {
      "image/png": "[encoded data removed]",
      "text/plain": [
       "<Figure size 432x288 with 1 Axes>"
      ]
     },
     "metadata": {},
     "output_type": "display_data"
    }
   ],
   "source": [
    "# plot regression lines\n",
    "plt.scatter(X_g[:,0],Y)\n",
    "plt.xlabel('X values')\n",
    "plt.ylabel('Y values')\n",
    "plt.plot(X_g[:,0],-0.9325+0.5468*X_g[:,0]+0.0077*X_g[:,0]**2, c = 'blue', label = 'least squares line')   \n",
    "# least squares regression line: Y = beta_hat_0 + beta_hat_1*X + beta_hat_2*X^2\n",
    "plt.plot(X_g[:,0],-1 + 0.5*X_g[:,0], c = 'red', label = 'population regression line')          \n",
    "# population regression line: Y = true_beta_0 + true_beta_1*X\n",
    "plt.legend()"
   ]
  },
  {
   "cell_type": "markdown",
   "metadata": {},
   "source": [
    "## h"
   ]
  },
  {
   "cell_type": "code",
   "execution_count": 22,
   "metadata": {},
   "outputs": [],
   "source": [
    "# Less noisy model\n",
    "np.random.seed(1)\n",
    "X_h = np.random.normal(0, 1, 100)\n",
    "# Decrease the variance of the normal distribution of 'eps' to \n",
    "eps_h = np.random.normal(0, 0.05**0.5, 100)\n",
    "Y_h = -1 + 0.5*X_h + eps_h"
   ]
  },
  {
   "cell_type": "code",
   "execution_count": 23,
   "metadata": {},
   "outputs": [
    {
     "data": {
      "text/plain": [
       "Text(0, 0.5, 'Y_h values')"
      ]
     },
     "execution_count": 23,
     "metadata": {},
     "output_type": "execute_result"
    },
    {
     "data": {
      "image/png": "[encoded data removed]",
      "text/plain": [
       "<Figure size 432x288 with 1 Axes>"
      ]
     },
     "metadata": {},
     "output_type": "display_data"
    }
   ],
   "source": [
    "# scatter plot\n",
    "plt.scatter(X_h,Y_h)\n",
    "plt.xlabel('X_h values')\n",
    "plt.ylabel('Y_h values')"
   ]
  },
  {
   "cell_type": "code",
   "execution_count": 24,
   "metadata": {},
   "outputs": [
    {
     "data": {
      "text/html": [
       "<table class=\"simpletable\">\n",
       "<caption>OLS Regression Results</caption>\n",
       "<tr>\n",
       "  <th>Dep. Variable:</th>            <td>y</td>        <th>  R-squared:         </th> <td>   0.832</td>\n",
       "</tr>\n",
       "<tr>\n",
       "  <th>Model:</th>                   <td>OLS</td>       <th>  Adj. R-squared:    </th> <td>   0.830</td>\n",
       "</tr>\n",
       "<tr>\n",
       "  <th>Method:</th>             <td>Least Squares</td>  <th>  F-statistic:       </th> <td>   484.5</td>\n",
       "</tr>\n",
       "<tr>\n",
       "  <th>Date:</th>             <td>Thu, 01 Oct 2020</td> <th>  Prob (F-statistic):</th> <td>1.04e-39</td>\n",
       "</tr>\n",
       "<tr>\n",
       "  <th>Time:</th>                 <td>18:25:44</td>     <th>  Log-Likelihood:    </th> <td>  15.348</td>\n",
       "</tr>\n",
       "<tr>\n",
       "  <th>No. Observations:</th>      <td>   100</td>      <th>  AIC:               </th> <td>  -26.70</td>\n",
       "</tr>\n",
       "<tr>\n",
       "  <th>Df Residuals:</th>          <td>    98</td>      <th>  BIC:               </th> <td>  -21.49</td>\n",
       "</tr>\n",
       "<tr>\n",
       "  <th>Df Model:</th>              <td>     1</td>      <th>                     </th>     <td> </td>   \n",
       "</tr>\n",
       "<tr>\n",
       "  <th>Covariance Type:</th>      <td>nonrobust</td>    <th>                     </th>     <td> </td>   \n",
       "</tr>\n",
       "</table>\n",
       "<table class=\"simpletable\">\n",
       "<tr>\n",
       "    <td></td>       <th>coef</th>     <th>std err</th>      <th>t</th>      <th>P>|t|</th>  <th>[0.025</th>    <th>0.975]</th>  \n",
       "</tr>\n",
       "<tr>\n",
       "  <th>const</th> <td>   -0.9671</td> <td>    0.021</td> <td>  -46.023</td> <td> 0.000</td> <td>   -1.009</td> <td>   -0.925</td>\n",
       "</tr>\n",
       "<tr>\n",
       "  <th>x1</th>    <td>    0.5213</td> <td>    0.024</td> <td>   22.011</td> <td> 0.000</td> <td>    0.474</td> <td>    0.568</td>\n",
       "</tr>\n",
       "</table>\n",
       "<table class=\"simpletable\">\n",
       "<tr>\n",
       "  <th>Omnibus:</th>       <td> 0.898</td> <th>  Durbin-Watson:     </th> <td>   2.157</td>\n",
       "</tr>\n",
       "<tr>\n",
       "  <th>Prob(Omnibus):</th> <td> 0.638</td> <th>  Jarque-Bera (JB):  </th> <td>   0.561</td>\n",
       "</tr>\n",
       "<tr>\n",
       "  <th>Skew:</th>          <td>-0.172</td> <th>  Prob(JB):          </th> <td>   0.755</td>\n",
       "</tr>\n",
       "<tr>\n",
       "  <th>Kurtosis:</th>      <td> 3.127</td> <th>  Cond. No.          </th> <td>    1.15</td>\n",
       "</tr>\n",
       "</table><br/><br/>Warnings:<br/>[1] Standard Errors assume that the covariance matrix of the errors is correctly specified."
      ],
      "text/plain": [
       "<class 'statsmodels.iolib.summary.Summary'>\n",
       "\"\"\"\n",
       "                            OLS Regression Results                            \n",
       "==============================================================================\n",
       "Dep. Variable:                      y   R-squared:                       0.832\n",
       "Model:                            OLS   Adj. R-squared:                  0.830\n",
       "Method:                 Least Squares   F-statistic:                     484.5\n",
       "Date:                Thu, 01 Oct 2020   Prob (F-statistic):           1.04e-39\n",
       "Time:                        18:25:44   Log-Likelihood:                 15.348\n",
       "No. Observations:                 100   AIC:                            -26.70\n",
       "Df Residuals:                      98   BIC:                            -21.49\n",
       "Df Model:                           1                                         \n",
       "Covariance Type:            nonrobust                                         \n",
       "==============================================================================\n",
       "                 coef    std err          t      P>|t|      [0.025      0.975]\n",
       "------------------------------------------------------------------------------\n",
       "const         -0.9671      0.021    -46.023      0.000      -1.009      -0.925\n",
       "x1             0.5213      0.024     22.011      0.000       0.474       0.568\n",
       "==============================================================================\n",
       "Omnibus:                        0.898   Durbin-Watson:                   2.157\n",
       "Prob(Omnibus):                  0.638   Jarque-Bera (JB):                0.561\n",
       "Skew:                          -0.172   Prob(JB):                        0.755\n",
       "Kurtosis:                       3.127   Cond. No.                         1.15\n",
       "==============================================================================\n",
       "\n",
       "Warnings:\n",
       "[1] Standard Errors assume that the covariance matrix of the errors is correctly specified.\n",
       "\"\"\""
      ]
     },
     "execution_count": 24,
     "metadata": {},
     "output_type": "execute_result"
    }
   ],
   "source": [
    "# fit the model\n",
    "model_h = sm.OLS(Y_h,sm.add_constant(X_h))\n",
    "result_h = model_h.fit()\n",
    "result_h.summary()"
   ]
  },
  {
   "cell_type": "code",
   "execution_count": 25,
   "metadata": {},
   "outputs": [
    {
     "data": {
      "text/plain": [
       "<matplotlib.legend.Legend at 0x7f947c304f10>"
      ]
     },
     "execution_count": 25,
     "metadata": {},
     "output_type": "execute_result"
    },
    {
     "data": {
      "image/png": "[encoded data removed]",
      "text/plain": [
       "<Figure size 432x288 with 1 Axes>"
      ]
     },
     "metadata": {},
     "output_type": "display_data"
    }
   ],
   "source": [
    "# plot regression lines\n",
    "plt.scatter(X_h,Y_h)\n",
    "plt.xlabel('X_h values')\n",
    "plt.ylabel('Y_h values')\n",
    "plt.plot(X_h,-0.9480+0.5337*X_h, c = 'blue', label = 'least squares line')   \n",
    "# least squares regression line: Y = beta_hat_0 + beta_hat_1*X\n",
    "plt.plot(X_h,-1 + 0.5*X_h, c = 'red', label = 'population regression line')          \n",
    "# population regression line: Y = true_beta_0 + true_beta_1*X\n",
    "plt.legend()"
   ]
  },
  {
   "cell_type": "markdown",
   "metadata": {},
   "source": [
    "## i"
   ]
  },
  {
   "cell_type": "code",
   "execution_count": 26,
   "metadata": {},
   "outputs": [],
   "source": [
    "# noisier model\n",
    "np.random.seed(1)\n",
    "X_i = np.random.normal(0, 1, 100)\n",
    "# Increase the variance of the normal distribution of 'eps'\n",
    "eps_i = np.random.normal(0, 0.75**0.5, 100)\n",
    "Y_i = -1 + 0.5*X_i + eps_i"
   ]
  },
  {
   "cell_type": "code",
   "execution_count": 27,
   "metadata": {},
   "outputs": [
    {
     "data": {
      "text/plain": [
       "Text(0, 0.5, 'Y_i values')"
      ]
     },
     "execution_count": 27,
     "metadata": {},
     "output_type": "execute_result"
    },
    {
     "data": {
      "image/png": "[encoded data removed]",
      "text/plain": [
       "<Figure size 432x288 with 1 Axes>"
      ]
     },
     "metadata": {},
     "output_type": "display_data"
    }
   ],
   "source": [
    "# scatter plot\n",
    "plt.scatter(X_i,Y_i)\n",
    "plt.xlabel('X_i values')\n",
    "plt.ylabel('Y_i values')"
   ]
  },
  {
   "cell_type": "code",
   "execution_count": 28,
   "metadata": {},
   "outputs": [
    {
     "data": {
      "text/html": [
       "<table class=\"simpletable\">\n",
       "<caption>OLS Regression Results</caption>\n",
       "<tr>\n",
       "  <th>Dep. Variable:</th>            <td>y</td>        <th>  R-squared:         </th> <td>   0.292</td>\n",
       "</tr>\n",
       "<tr>\n",
       "  <th>Model:</th>                   <td>OLS</td>       <th>  Adj. R-squared:    </th> <td>   0.284</td>\n",
       "</tr>\n",
       "<tr>\n",
       "  <th>Method:</th>             <td>Least Squares</td>  <th>  F-statistic:       </th> <td>   40.34</td>\n",
       "</tr>\n",
       "<tr>\n",
       "  <th>Date:</th>             <td>Thu, 01 Oct 2020</td> <th>  Prob (F-statistic):</th> <td>6.70e-09</td>\n",
       "</tr>\n",
       "<tr>\n",
       "  <th>Time:</th>                 <td>18:26:56</td>     <th>  Log-Likelihood:    </th> <td> -120.05</td>\n",
       "</tr>\n",
       "<tr>\n",
       "  <th>No. Observations:</th>      <td>   100</td>      <th>  AIC:               </th> <td>   244.1</td>\n",
       "</tr>\n",
       "<tr>\n",
       "  <th>Df Residuals:</th>          <td>    98</td>      <th>  BIC:               </th> <td>   249.3</td>\n",
       "</tr>\n",
       "<tr>\n",
       "  <th>Df Model:</th>              <td>     1</td>      <th>                     </th>     <td> </td>   \n",
       "</tr>\n",
       "<tr>\n",
       "  <th>Covariance Type:</th>      <td>nonrobust</td>    <th>                     </th>     <td> </td>   \n",
       "</tr>\n",
       "</table>\n",
       "<table class=\"simpletable\">\n",
       "<tr>\n",
       "    <td></td>       <th>coef</th>     <th>std err</th>      <th>t</th>      <th>P>|t|</th>  <th>[0.025</th>    <th>0.975]</th>  \n",
       "</tr>\n",
       "<tr>\n",
       "  <th>const</th> <td>   -0.8727</td> <td>    0.081</td> <td>  -10.723</td> <td> 0.000</td> <td>   -1.034</td> <td>   -0.711</td>\n",
       "</tr>\n",
       "<tr>\n",
       "  <th>x1</th>    <td>    0.5826</td> <td>    0.092</td> <td>    6.352</td> <td> 0.000</td> <td>    0.401</td> <td>    0.765</td>\n",
       "</tr>\n",
       "</table>\n",
       "<table class=\"simpletable\">\n",
       "<tr>\n",
       "  <th>Omnibus:</th>       <td> 0.898</td> <th>  Durbin-Watson:     </th> <td>   2.157</td>\n",
       "</tr>\n",
       "<tr>\n",
       "  <th>Prob(Omnibus):</th> <td> 0.638</td> <th>  Jarque-Bera (JB):  </th> <td>   0.561</td>\n",
       "</tr>\n",
       "<tr>\n",
       "  <th>Skew:</th>          <td>-0.172</td> <th>  Prob(JB):          </th> <td>   0.755</td>\n",
       "</tr>\n",
       "<tr>\n",
       "  <th>Kurtosis:</th>      <td> 3.127</td> <th>  Cond. No.          </th> <td>    1.15</td>\n",
       "</tr>\n",
       "</table><br/><br/>Warnings:<br/>[1] Standard Errors assume that the covariance matrix of the errors is correctly specified."
      ],
      "text/plain": [
       "<class 'statsmodels.iolib.summary.Summary'>\n",
       "\"\"\"\n",
       "                            OLS Regression Results                            \n",
       "==============================================================================\n",
       "Dep. Variable:                      y   R-squared:                       0.292\n",
       "Model:                            OLS   Adj. R-squared:                  0.284\n",
       "Method:                 Least Squares   F-statistic:                     40.34\n",
       "Date:                Thu, 01 Oct 2020   Prob (F-statistic):           6.70e-09\n",
       "Time:                        18:26:56   Log-Likelihood:                -120.05\n",
       "No. Observations:                 100   AIC:                             244.1\n",
       "Df Residuals:                      98   BIC:                             249.3\n",
       "Df Model:                           1                                         \n",
       "Covariance Type:            nonrobust                                         \n",
       "==============================================================================\n",
       "                 coef    std err          t      P>|t|      [0.025      0.975]\n",
       "------------------------------------------------------------------------------\n",
       "const         -0.8727      0.081    -10.723      0.000      -1.034      -0.711\n",
       "x1             0.5826      0.092      6.352      0.000       0.401       0.765\n",
       "==============================================================================\n",
       "Omnibus:                        0.898   Durbin-Watson:                   2.157\n",
       "Prob(Omnibus):                  0.638   Jarque-Bera (JB):                0.561\n",
       "Skew:                          -0.172   Prob(JB):                        0.755\n",
       "Kurtosis:                       3.127   Cond. No.                         1.15\n",
       "==============================================================================\n",
       "\n",
       "Warnings:\n",
       "[1] Standard Errors assume that the covariance matrix of the errors is correctly specified.\n",
       "\"\"\""
      ]
     },
     "execution_count": 28,
     "metadata": {},
     "output_type": "execute_result"
    }
   ],
   "source": [
    "# fit the model\n",
    "model_i = sm.OLS(Y_i,sm.add_constant(X_i))\n",
    "result_i = model_i.fit()\n",
    "result_i.summary()"
   ]
  },
  {
   "cell_type": "code",
   "execution_count": 29,
   "metadata": {},
   "outputs": [
    {
     "data": {
      "text/plain": [
       "<matplotlib.legend.Legend at 0x7f947c5555d0>"
      ]
     },
     "execution_count": 29,
     "metadata": {},
     "output_type": "execute_result"
    },
    {
     "data": {
      "image/png": "[encoded data removed]",
      "text/plain": [
       "<Figure size 432x288 with 1 Axes>"
      ]
     },
     "metadata": {},
     "output_type": "display_data"
    }
   ],
   "source": [
    "# plot regression lines\n",
    "plt.scatter(X_i,Y_i)\n",
    "plt.xlabel('X_i values')\n",
    "plt.ylabel('Y_i values')\n",
    "plt.plot(X_i,-0.8727+0.5826*X_i, c = 'blue', label = 'least squares line')   \n",
    "# least squares regression line: Y = beta_hat_0 + beta_hat_1*X\n",
    "plt.plot(X_i,-1 + 0.5*X_i, c = 'red', label = 'population regression line')          \n",
    "# population regression line: Y = true_beta_0 + true_beta_1*X\n",
    "plt.legend()"
   ]
  },
  {
   "cell_type": "markdown",
   "metadata": {},
   "source": [
    "## j"
   ]
  },
  {
   "cell_type": "code",
   "execution_count": 30,
   "metadata": {},
   "outputs": [
    {
     "name": "stdout",
     "output_type": "stream",
     "text": [
      "Original Dataset:\n",
      "beta_0: [-1.01974096 -0.83324551] beta_1: [0.44261338 0.65281376]\n",
      "Less Noisy Dataset:\n",
      "beta_0: [-1.00882843 -0.92542512] beta_1: [0.47433592 0.56834039]\n",
      "Noisier Dataset:\n",
      "beta_0: [-1.03419235 -0.71117274] beta_1: [0.40060345 0.76468119]\n"
     ]
    }
   ],
   "source": [
    "# confidence intervals of coefficients for each model\n",
    "print(\"Original Dataset:\")\n",
    "print(\"beta_0: \" + str(result.conf_int()[0]) + \" beta_1: \" + str(result.conf_int()[1]))\n",
    "print(\"Less Noisy Dataset:\")\n",
    "print(\"beta_0: \" + str(result_h.conf_int()[0]) + \" beta_1: \" + str(result_h.conf_int()[1]))\n",
    "print(\"Noisier Dataset:\")\n",
    "print(\"beta_0: \" + str(result_i.conf_int()[0]) + \" beta_1: \" + str(result_i.conf_int()[1]))"
   ]
  },
  {
   "cell_type": "markdown",
   "metadata": {},
   "source": [
    "# Question 4"
   ]
  },
  {
   "cell_type": "markdown",
   "metadata": {},
   "source": [
    "## Part 1 \n",
    "## Fit the classifier and estimate generalization error."
   ]
  },
  {
   "cell_type": "code",
   "execution_count": 48,
   "metadata": {},
   "outputs": [
    {
     "data": {
      "text/plain": [
       "<matplotlib.axes._subplots.AxesSubplot at 0x7f947e23b8d0>"
      ]
     },
     "execution_count": 48,
     "metadata": {},
     "output_type": "execute_result"
    },
    {
     "data": {
      "image/png": "[encoded data removed]",
      "text/plain": [
       "<Figure size 432x288 with 1 Axes>"
      ]
     },
     "metadata": {},
     "output_type": "display_data"
    }
   ],
   "source": [
    "spam['size.kb'].hist(bins=100)"
   ]
  },
  {
   "cell_type": "code",
   "execution_count": 49,
   "metadata": {},
   "outputs": [
    {
     "data": {
      "text/plain": [
       "<matplotlib.axes._subplots.AxesSubplot at 0x7f9462ecfe50>"
      ]
     },
     "execution_count": 49,
     "metadata": {},
     "output_type": "execute_result"
    },
    {
     "data": {
      "image/png": "[encoded data removed]",
      "text/plain": [
       "<Figure size 432x288 with 1 Axes>"
      ]
     },
     "metadata": {},
     "output_type": "display_data"
    }
   ],
   "source": [
    "spam['cappct'].hist(bins=100)"
   ]
  },
  {
   "cell_type": "code",
   "execution_count": 50,
   "metadata": {
    "scrolled": true
   },
   "outputs": [
    {
     "data": {
      "text/plain": [
       "<matplotlib.axes._subplots.AxesSubplot at 0x7f9462f62250>"
      ]
     },
     "execution_count": 50,
     "metadata": {},
     "output_type": "execute_result"
    },
    {
     "data": {
      "image/png": "[encoded data removed]",
      "text/plain": [
       "<Figure size 432x288 with 1 Axes>"
      ]
     },
     "metadata": {},
     "output_type": "display_data"
    }
   ],
   "source": [
    "spam['special'].hist(bins=100)"
   ]
  },
  {
   "cell_type": "markdown",
   "metadata": {},
   "source": [
    "#### None of the 3 continuous variables above follow the Gaussian Distribution. While the ranges are all very large, most values falls into a very small range on the left side. They are all too skewed to the same direction. Therefore, not quite useful when used as predictors in Naive Bayes classifier, using the Gaussian NB from 'sklearn' for these 3 continuous features."
   ]
  },
  {
   "cell_type": "code",
   "execution_count": 51,
   "metadata": {},
   "outputs": [],
   "source": [
    "# convert all categorical values into numerical values\n",
    "from sklearn import preprocessing\n",
    "le = preprocessing.LabelEncoder()\n",
    "\n",
    "day = le.fit_transform(spam['day of week'])\n",
    "time = le.fit_transform(spam['time of day'])\n",
    "box = le.fit_transform(spam['box'])\n",
    "domain = le.fit_transform(spam['domain'])\n",
    "local = le.fit_transform(spam['local'])\n",
    "digits = le.fit_transform(spam['digits'])\n",
    "name = le.fit_transform(spam['name'])\n",
    "credit = le.fit_transform(spam['credit'])\n",
    "sucker = le.fit_transform(spam['sucker'])\n",
    "porn = le.fit_transform(spam['porn'])\n",
    "chain = le.fit_transform(spam['chain'])\n",
    "username = le.fit_transform(spam['username'])\n",
    "large_text = le.fit_transform(spam['large text'])\n",
    "category = le.fit_transform(spam['category'])\n",
    "\n",
    "# zip all features into a list\n",
    "features = list(zip(day,time,box,domain,local,digits,name,credit,sucker,porn,chain,username,large_text,category))\n",
    "\n",
    "# put label in a list\n",
    "label = list(le.fit_transform(spam['spam']))"
   ]
  },
  {
   "cell_type": "code",
   "execution_count": 53,
   "metadata": {},
   "outputs": [
    {
     "name": "stdout",
     "output_type": "stream",
     "text": [
      "Accuracy: 0.9379310344827586\n"
     ]
    }
   ],
   "source": [
    "# using only the categorical variables as features to build the classifier.\n",
    "from sklearn.model_selection import train_test_split\n",
    "X_train, X_test, y_train, y_test = train_test_split(features, label, test_size=0.2, random_state=0)\n",
    "# Import Categorical NB classifier\n",
    "from sklearn.naive_bayes import CategoricalNB\n",
    "clf = CategoricalNB()\n",
    "clf.fit(X_train, y_train)\n",
    "y_pred = clf.predict(X_test)\n",
    "\n",
    "# Import scikit-learn metrics module for accuracy calculation\n",
    "from sklearn import metrics\n",
    "\n",
    "# Model Accuracy, how often is the classifier correct?\n",
    "print(\"Accuracy:\",metrics.accuracy_score(y_test, y_pred))"
   ]
  },
  {
   "cell_type": "markdown",
   "metadata": {},
   "source": [
    "## Part 2\n",
    "## Repeat the 10 times randomly assigning the training & testing data set."
   ]
  },
  {
   "cell_type": "code",
   "execution_count": 55,
   "metadata": {},
   "outputs": [
    {
     "name": "stdout",
     "output_type": "stream",
     "text": [
      "Accuracy: 0.9425287356321839\n"
     ]
    }
   ],
   "source": [
    "# 1nd\n",
    "# reassign the training and testing set\n",
    "X_train, X_test, y_train, y_test = train_test_split(features, label, test_size=0.2, random_state=24)\n",
    "clf = CategoricalNB()\n",
    "y_pred = clf.fit(X_train, y_train).predict(X_test)\n",
    "print(\"Accuracy:\",metrics.accuracy_score(y_test, y_pred))"
   ]
  },
  {
   "cell_type": "code",
   "execution_count": 57,
   "metadata": {},
   "outputs": [
    {
     "name": "stdout",
     "output_type": "stream",
     "text": [
      "Accuracy: 0.9356321839080459\n"
     ]
    }
   ],
   "source": [
    "# 2nd\n",
    "# reassign the training and testing set\n",
    "X_train, X_test, y_train, y_test = train_test_split(features, label, test_size=0.2, random_state=2)\n",
    "clf = CategoricalNB()\n",
    "y_pred = clf.fit(X_train, y_train).predict(X_test)\n",
    "print(\"Accuracy:\",metrics.accuracy_score(y_test, y_pred))"
   ]
  },
  {
   "cell_type": "code",
   "execution_count": 59,
   "metadata": {},
   "outputs": [
    {
     "name": "stdout",
     "output_type": "stream",
     "text": [
      "Accuracy: 0.9563218390804598\n"
     ]
    }
   ],
   "source": [
    "# 3rd\n",
    "# reassign the training and testing set\n",
    "X_train, X_test, y_train, y_test = train_test_split(features, label, test_size=0.2, random_state=3)\n",
    "clf = CategoricalNB()\n",
    "y_pred = clf.fit(X_train, y_train).predict(X_test)\n",
    "print(\"Accuracy:\",metrics.accuracy_score(y_test, y_pred))"
   ]
  },
  {
   "cell_type": "code",
   "execution_count": 61,
   "metadata": {},
   "outputs": [
    {
     "name": "stdout",
     "output_type": "stream",
     "text": [
      "Accuracy: 0.9632183908045977\n"
     ]
    }
   ],
   "source": [
    "# 4th\n",
    "# reassign the training and testing set\n",
    "X_train, X_test, y_train, y_test = train_test_split(features, label, test_size=0.2, random_state=4)\n",
    "clf = CategoricalNB()\n",
    "y_pred = clf.fit(X_train, y_train).predict(X_test)\n",
    "print(\"Accuracy:\",metrics.accuracy_score(y_test, y_pred))"
   ]
  },
  {
   "cell_type": "code",
   "execution_count": 64,
   "metadata": {},
   "outputs": [
    {
     "name": "stdout",
     "output_type": "stream",
     "text": [
      "Accuracy: 0.9563218390804598\n"
     ]
    }
   ],
   "source": [
    "# 5th\n",
    "# reassign the training and testing set\n",
    "X_train, X_test, y_train, y_test = train_test_split(features, label, test_size=0.2, random_state=55)\n",
    "clf = CategoricalNB()\n",
    "y_pred = clf.fit(X_train, y_train).predict(X_test)\n",
    "print(\"Accuracy:\",metrics.accuracy_score(y_test, y_pred))"
   ]
  },
  {
   "cell_type": "code",
   "execution_count": 65,
   "metadata": {},
   "outputs": [
    {
     "name": "stdout",
     "output_type": "stream",
     "text": [
      "Accuracy: 0.9448275862068966\n"
     ]
    }
   ],
   "source": [
    "# 6th\n",
    "# reassign the training and testing set\n",
    "X_train, X_test, y_train, y_test = train_test_split(features, label, test_size=0.2, random_state=62)\n",
    "clf = CategoricalNB()\n",
    "y_pred = clf.fit(X_train, y_train).predict(X_test)\n",
    "print(\"Accuracy:\",metrics.accuracy_score(y_test, y_pred))"
   ]
  },
  {
   "cell_type": "code",
   "execution_count": 66,
   "metadata": {},
   "outputs": [
    {
     "name": "stdout",
     "output_type": "stream",
     "text": [
      "Accuracy: 0.9471264367816092\n"
     ]
    }
   ],
   "source": [
    "# 7th\n",
    "# reassign the training and testing set\n",
    "X_train, X_test, y_train, y_test = train_test_split(features, label, test_size=0.2, random_state=71)\n",
    "clf = CategoricalNB()\n",
    "y_pred = clf.fit(X_train, y_train).predict(X_test)\n",
    "print(\"Accuracy:\",metrics.accuracy_score(y_test, y_pred))"
   ]
  },
  {
   "cell_type": "code",
   "execution_count": 67,
   "metadata": {},
   "outputs": [
    {
     "name": "stdout",
     "output_type": "stream",
     "text": [
      "Accuracy: 0.9425287356321839\n"
     ]
    }
   ],
   "source": [
    "# 8th\n",
    "# reassign the training and testing set\n",
    "X_train, X_test, y_train, y_test = train_test_split(features, label, test_size=0.2, random_state=123)\n",
    "clf = CategoricalNB()\n",
    "y_pred = clf.fit(X_train, y_train).predict(X_test)\n",
    "print(\"Accuracy:\",metrics.accuracy_score(y_test, y_pred))"
   ]
  },
  {
   "cell_type": "code",
   "execution_count": 68,
   "metadata": {},
   "outputs": [
    {
     "name": "stdout",
     "output_type": "stream",
     "text": [
      "Accuracy: 0.9655172413793104\n"
     ]
    }
   ],
   "source": [
    "# 9th\n",
    "# reassign the training and testing set\n",
    "X_train, X_test, y_train, y_test = train_test_split(features, label, test_size=0.2, random_state=98)\n",
    "clf = CategoricalNB()\n",
    "y_pred = clf.fit(X_train, y_train).predict(X_test)\n",
    "print(\"Accuracy:\",metrics.accuracy_score(y_test, y_pred))"
   ]
  },
  {
   "cell_type": "code",
   "execution_count": 69,
   "metadata": {},
   "outputs": [
    {
     "name": "stdout",
     "output_type": "stream",
     "text": [
      "Accuracy: 0.9471264367816092\n"
     ]
    }
   ],
   "source": [
    "# 10th\n",
    "# reassign the training and testing set\n",
    "X_train, X_test, y_train, y_test = train_test_split(features, label, test_size=0.2, random_state=105)\n",
    "clf = CategoricalNB()\n",
    "y_pred = clf.fit(X_train, y_train).predict(X_test)\n",
    "print(\"Accuracy:\",metrics.accuracy_score(y_test, y_pred))"
   ]
  },
  {
   "cell_type": "code",
   "execution_count": 74,
   "metadata": {},
   "outputs": [
    {
     "data": {
      "text/plain": [
       "[<matplotlib.lines.Line2D at 0x7f94638cdc10>]"
      ]
     },
     "execution_count": 74,
     "metadata": {},
     "output_type": "execute_result"
    },
    {
     "data": {
      "image/png": "[encoded data removed]",
      "text/plain": [
       "<Figure size 432x288 with 1 Axes>"
      ]
     },
     "metadata": {},
     "output_type": "display_data"
    }
   ],
   "source": [
    "error_var = np.array([0.9425287356321839, 0.9356321839080459, 0.9563218390804598, 0.9632183908045977, 0.9563218390804598,\n",
    "         0.9448275862068966, 0.9471264367816092, 0.9425287356321839, 0.9655172413793104, 0.9471264367816092])\n",
    "plt.plot(error_var)"
   ]
  },
  {
   "cell_type": "code",
   "execution_count": 75,
   "metadata": {},
   "outputs": [
    {
     "data": {
      "text/plain": [
       "[0.9356321839080459, 0.9655172413793104]"
      ]
     },
     "execution_count": 75,
     "metadata": {},
     "output_type": "execute_result"
    }
   ],
   "source": [
    "[error_var.min(), error_var.max()]"
   ]
  },
  {
   "cell_type": "code",
   "execution_count": null,
   "metadata": {},
   "outputs": [],
   "source": []
  }
 ],
 "metadata": {
  "kernelspec": {
   "display_name": "Python 3",
   "language": "python",
   "name": "python3"
  },
  "language_info": {
   "codemirror_mode": {
    "name": "ipython",
    "version": 3
   },
   "file_extension": ".py",
   "mimetype": "text/x-python",
   "name": "python",
   "nbconvert_exporter": "python",
   "pygments_lexer": "ipython3",
   "version": "3.7.6"
  }
 },
 "nbformat": 4,
 "nbformat_minor": 4
}
